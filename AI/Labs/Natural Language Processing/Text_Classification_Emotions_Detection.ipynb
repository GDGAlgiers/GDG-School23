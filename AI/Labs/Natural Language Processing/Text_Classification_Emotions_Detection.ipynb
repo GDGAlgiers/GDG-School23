{
  "nbformat": 4,
  "nbformat_minor": 0,
  "metadata": {
    "colab": {
      "provenance": []
    },
    "kernelspec": {
      "name": "python3",
      "display_name": "Python 3"
    },
    "language_info": {
      "name": "python"
    },
    "accelerator": "GPU",
    "gpuClass": "standard"
  },
  "cells": [
    {
      "cell_type": "markdown",
      "source": [
        "# [Lab] Text Classification: Emotions Detection"
      ],
      "metadata": {
        "id": "RJGcPPVC0LnE"
      }
    },
    {
      "cell_type": "markdown",
      "source": [
        "## Modules"
      ],
      "metadata": {
        "id": "QIoBafLxWxK4"
      }
    },
    {
      "cell_type": "code",
      "execution_count": null,
      "metadata": {
        "id": "PY6rgtruw5Jq"
      },
      "outputs": [],
      "source": [
        "!pip install nlp"
      ]
    },
    {
      "cell_type": "code",
      "source": [
        "# Import NumPy for numerical operations\n",
        "import numpy as np\n",
        "# Import pandas for data manipulation and analysis\n",
        "import pandas as pd\n",
        "\n",
        "# Import nlp library for natural language processing tasks\n",
        "import nlp\n",
        "\n",
        "# Import TensorFlow library for machine learning tasks\n",
        "import tensorflow as tf\n",
        "# Import Tokenizer and pad_sequences from Keras for text preprocessing\n",
        "from tensorflow.keras.preprocessing.text import Tokenizer\n",
        "from tensorflow.keras.preprocessing.sequence import pad_sequences\n",
        "# Import EarlyStopping callback from Keras for early stopping during model training\n",
        "from tensorflow.keras.callbacks import EarlyStopping\n",
        "\n",
        "# Import Matplotlib for creating visualizations\n",
        "import matplotlib.pyplot as plt"
      ],
      "metadata": {
        "id": "opUlw1J6s3Ii"
      },
      "execution_count": 2,
      "outputs": []
    },
    {
      "cell_type": "markdown",
      "source": [
        "## Data"
      ],
      "metadata": {
        "id": "JGheqjtPXEIi"
      }
    },
    {
      "cell_type": "code",
      "source": [
        "# Load training, validation, and test datasets from CSV files\n",
        "train_df = pd.read_csv(\"training.csv\")\n",
        "val_df = pd.read_csv(\"validation.csv\")\n",
        "test_df = pd.read_csv(\"test.csv\")\n",
        "\n",
        "# Extract tweets and labels from the training dataset\n",
        "train_tweets = train_df['text']\n",
        "train_labels = train_df['label']\n",
        "\n",
        "# Extract tweets and labels from the validation dataset\n",
        "val_tweets = val_df['text']\n",
        "val_labels = val_df['label']\n",
        "\n",
        "# Extract tweets and labels from the test dataset\n",
        "test_tweets = test_df['text']\n",
        "test_labels = test_df['label']"
      ],
      "metadata": {
        "id": "XQ8nluHuP47N"
      },
      "execution_count": 21,
      "outputs": []
    },
    {
      "cell_type": "code",
      "source": [
        "train_df.head()"
      ],
      "metadata": {
        "colab": {
          "base_uri": "https://localhost:8080/",
          "height": 206
        },
        "id": "mNfGMOsh0y5D",
        "outputId": "b7441fa0-65b0-4ee1-cf85-66d59c96fbf7"
      },
      "execution_count": 22,
      "outputs": [
        {
          "output_type": "execute_result",
          "data": {
            "text/plain": [
              "                                                text  label\n",
              "0                            i didnt feel humiliated      0\n",
              "1  i can go from feeling so hopeless to so damned...      0\n",
              "2   im grabbing a minute to post i feel greedy wrong      3\n",
              "3  i am ever feeling nostalgic about the fireplac...      2\n",
              "4                               i am feeling grouchy      3"
            ],
            "text/html": [
              "\n",
              "  <div id=\"df-9537ed9d-56a7-4091-a28b-b651e881897f\" class=\"colab-df-container\">\n",
              "    <div>\n",
              "<style scoped>\n",
              "    .dataframe tbody tr th:only-of-type {\n",
              "        vertical-align: middle;\n",
              "    }\n",
              "\n",
              "    .dataframe tbody tr th {\n",
              "        vertical-align: top;\n",
              "    }\n",
              "\n",
              "    .dataframe thead th {\n",
              "        text-align: right;\n",
              "    }\n",
              "</style>\n",
              "<table border=\"1\" class=\"dataframe\">\n",
              "  <thead>\n",
              "    <tr style=\"text-align: right;\">\n",
              "      <th></th>\n",
              "      <th>text</th>\n",
              "      <th>label</th>\n",
              "    </tr>\n",
              "  </thead>\n",
              "  <tbody>\n",
              "    <tr>\n",
              "      <th>0</th>\n",
              "      <td>i didnt feel humiliated</td>\n",
              "      <td>0</td>\n",
              "    </tr>\n",
              "    <tr>\n",
              "      <th>1</th>\n",
              "      <td>i can go from feeling so hopeless to so damned...</td>\n",
              "      <td>0</td>\n",
              "    </tr>\n",
              "    <tr>\n",
              "      <th>2</th>\n",
              "      <td>im grabbing a minute to post i feel greedy wrong</td>\n",
              "      <td>3</td>\n",
              "    </tr>\n",
              "    <tr>\n",
              "      <th>3</th>\n",
              "      <td>i am ever feeling nostalgic about the fireplac...</td>\n",
              "      <td>2</td>\n",
              "    </tr>\n",
              "    <tr>\n",
              "      <th>4</th>\n",
              "      <td>i am feeling grouchy</td>\n",
              "      <td>3</td>\n",
              "    </tr>\n",
              "  </tbody>\n",
              "</table>\n",
              "</div>\n",
              "    <div class=\"colab-df-buttons\">\n",
              "\n",
              "  <div class=\"colab-df-container\">\n",
              "    <button class=\"colab-df-convert\" onclick=\"convertToInteractive('df-9537ed9d-56a7-4091-a28b-b651e881897f')\"\n",
              "            title=\"Convert this dataframe to an interactive table.\"\n",
              "            style=\"display:none;\">\n",
              "\n",
              "  <svg xmlns=\"http://www.w3.org/2000/svg\" height=\"24px\" viewBox=\"0 -960 960 960\">\n",
              "    <path d=\"M120-120v-720h720v720H120Zm60-500h600v-160H180v160Zm220 220h160v-160H400v160Zm0 220h160v-160H400v160ZM180-400h160v-160H180v160Zm440 0h160v-160H620v160ZM180-180h160v-160H180v160Zm440 0h160v-160H620v160Z\"/>\n",
              "  </svg>\n",
              "    </button>\n",
              "\n",
              "  <style>\n",
              "    .colab-df-container {\n",
              "      display:flex;\n",
              "      gap: 12px;\n",
              "    }\n",
              "\n",
              "    .colab-df-convert {\n",
              "      background-color: #E8F0FE;\n",
              "      border: none;\n",
              "      border-radius: 50%;\n",
              "      cursor: pointer;\n",
              "      display: none;\n",
              "      fill: #1967D2;\n",
              "      height: 32px;\n",
              "      padding: 0 0 0 0;\n",
              "      width: 32px;\n",
              "    }\n",
              "\n",
              "    .colab-df-convert:hover {\n",
              "      background-color: #E2EBFA;\n",
              "      box-shadow: 0px 1px 2px rgba(60, 64, 67, 0.3), 0px 1px 3px 1px rgba(60, 64, 67, 0.15);\n",
              "      fill: #174EA6;\n",
              "    }\n",
              "\n",
              "    .colab-df-buttons div {\n",
              "      margin-bottom: 4px;\n",
              "    }\n",
              "\n",
              "    [theme=dark] .colab-df-convert {\n",
              "      background-color: #3B4455;\n",
              "      fill: #D2E3FC;\n",
              "    }\n",
              "\n",
              "    [theme=dark] .colab-df-convert:hover {\n",
              "      background-color: #434B5C;\n",
              "      box-shadow: 0px 1px 3px 1px rgba(0, 0, 0, 0.15);\n",
              "      filter: drop-shadow(0px 1px 2px rgba(0, 0, 0, 0.3));\n",
              "      fill: #FFFFFF;\n",
              "    }\n",
              "  </style>\n",
              "\n",
              "    <script>\n",
              "      const buttonEl =\n",
              "        document.querySelector('#df-9537ed9d-56a7-4091-a28b-b651e881897f button.colab-df-convert');\n",
              "      buttonEl.style.display =\n",
              "        google.colab.kernel.accessAllowed ? 'block' : 'none';\n",
              "\n",
              "      async function convertToInteractive(key) {\n",
              "        const element = document.querySelector('#df-9537ed9d-56a7-4091-a28b-b651e881897f');\n",
              "        const dataTable =\n",
              "          await google.colab.kernel.invokeFunction('convertToInteractive',\n",
              "                                                    [key], {});\n",
              "        if (!dataTable) return;\n",
              "\n",
              "        const docLinkHtml = 'Like what you see? Visit the ' +\n",
              "          '<a target=\"_blank\" href=https://colab.research.google.com/notebooks/data_table.ipynb>data table notebook</a>'\n",
              "          + ' to learn more about interactive tables.';\n",
              "        element.innerHTML = '';\n",
              "        dataTable['output_type'] = 'display_data';\n",
              "        await google.colab.output.renderOutput(dataTable, element);\n",
              "        const docLink = document.createElement('div');\n",
              "        docLink.innerHTML = docLinkHtml;\n",
              "        element.appendChild(docLink);\n",
              "      }\n",
              "    </script>\n",
              "  </div>\n",
              "\n",
              "\n",
              "<div id=\"df-07f639c7-37f9-45a6-8521-6351e438e376\">\n",
              "  <button class=\"colab-df-quickchart\" onclick=\"quickchart('df-07f639c7-37f9-45a6-8521-6351e438e376')\"\n",
              "            title=\"Suggest charts\"\n",
              "            style=\"display:none;\">\n",
              "\n",
              "<svg xmlns=\"http://www.w3.org/2000/svg\" height=\"24px\"viewBox=\"0 0 24 24\"\n",
              "     width=\"24px\">\n",
              "    <g>\n",
              "        <path d=\"M19 3H5c-1.1 0-2 .9-2 2v14c0 1.1.9 2 2 2h14c1.1 0 2-.9 2-2V5c0-1.1-.9-2-2-2zM9 17H7v-7h2v7zm4 0h-2V7h2v10zm4 0h-2v-4h2v4z\"/>\n",
              "    </g>\n",
              "</svg>\n",
              "  </button>\n",
              "\n",
              "<style>\n",
              "  .colab-df-quickchart {\n",
              "      --bg-color: #E8F0FE;\n",
              "      --fill-color: #1967D2;\n",
              "      --hover-bg-color: #E2EBFA;\n",
              "      --hover-fill-color: #174EA6;\n",
              "      --disabled-fill-color: #AAA;\n",
              "      --disabled-bg-color: #DDD;\n",
              "  }\n",
              "\n",
              "  [theme=dark] .colab-df-quickchart {\n",
              "      --bg-color: #3B4455;\n",
              "      --fill-color: #D2E3FC;\n",
              "      --hover-bg-color: #434B5C;\n",
              "      --hover-fill-color: #FFFFFF;\n",
              "      --disabled-bg-color: #3B4455;\n",
              "      --disabled-fill-color: #666;\n",
              "  }\n",
              "\n",
              "  .colab-df-quickchart {\n",
              "    background-color: var(--bg-color);\n",
              "    border: none;\n",
              "    border-radius: 50%;\n",
              "    cursor: pointer;\n",
              "    display: none;\n",
              "    fill: var(--fill-color);\n",
              "    height: 32px;\n",
              "    padding: 0;\n",
              "    width: 32px;\n",
              "  }\n",
              "\n",
              "  .colab-df-quickchart:hover {\n",
              "    background-color: var(--hover-bg-color);\n",
              "    box-shadow: 0 1px 2px rgba(60, 64, 67, 0.3), 0 1px 3px 1px rgba(60, 64, 67, 0.15);\n",
              "    fill: var(--button-hover-fill-color);\n",
              "  }\n",
              "\n",
              "  .colab-df-quickchart-complete:disabled,\n",
              "  .colab-df-quickchart-complete:disabled:hover {\n",
              "    background-color: var(--disabled-bg-color);\n",
              "    fill: var(--disabled-fill-color);\n",
              "    box-shadow: none;\n",
              "  }\n",
              "\n",
              "  .colab-df-spinner {\n",
              "    border: 2px solid var(--fill-color);\n",
              "    border-color: transparent;\n",
              "    border-bottom-color: var(--fill-color);\n",
              "    animation:\n",
              "      spin 1s steps(1) infinite;\n",
              "  }\n",
              "\n",
              "  @keyframes spin {\n",
              "    0% {\n",
              "      border-color: transparent;\n",
              "      border-bottom-color: var(--fill-color);\n",
              "      border-left-color: var(--fill-color);\n",
              "    }\n",
              "    20% {\n",
              "      border-color: transparent;\n",
              "      border-left-color: var(--fill-color);\n",
              "      border-top-color: var(--fill-color);\n",
              "    }\n",
              "    30% {\n",
              "      border-color: transparent;\n",
              "      border-left-color: var(--fill-color);\n",
              "      border-top-color: var(--fill-color);\n",
              "      border-right-color: var(--fill-color);\n",
              "    }\n",
              "    40% {\n",
              "      border-color: transparent;\n",
              "      border-right-color: var(--fill-color);\n",
              "      border-top-color: var(--fill-color);\n",
              "    }\n",
              "    60% {\n",
              "      border-color: transparent;\n",
              "      border-right-color: var(--fill-color);\n",
              "    }\n",
              "    80% {\n",
              "      border-color: transparent;\n",
              "      border-right-color: var(--fill-color);\n",
              "      border-bottom-color: var(--fill-color);\n",
              "    }\n",
              "    90% {\n",
              "      border-color: transparent;\n",
              "      border-bottom-color: var(--fill-color);\n",
              "    }\n",
              "  }\n",
              "</style>\n",
              "\n",
              "  <script>\n",
              "    async function quickchart(key) {\n",
              "      const quickchartButtonEl =\n",
              "        document.querySelector('#' + key + ' button');\n",
              "      quickchartButtonEl.disabled = true;  // To prevent multiple clicks.\n",
              "      quickchartButtonEl.classList.add('colab-df-spinner');\n",
              "      try {\n",
              "        const charts = await google.colab.kernel.invokeFunction(\n",
              "            'suggestCharts', [key], {});\n",
              "      } catch (error) {\n",
              "        console.error('Error during call to suggestCharts:', error);\n",
              "      }\n",
              "      quickchartButtonEl.classList.remove('colab-df-spinner');\n",
              "      quickchartButtonEl.classList.add('colab-df-quickchart-complete');\n",
              "    }\n",
              "    (() => {\n",
              "      let quickchartButtonEl =\n",
              "        document.querySelector('#df-07f639c7-37f9-45a6-8521-6351e438e376 button');\n",
              "      quickchartButtonEl.style.display =\n",
              "        google.colab.kernel.accessAllowed ? 'block' : 'none';\n",
              "    })();\n",
              "  </script>\n",
              "</div>\n",
              "    </div>\n",
              "  </div>\n"
            ]
          },
          "metadata": {},
          "execution_count": 22
        }
      ]
    },
    {
      "cell_type": "code",
      "source": [
        "train_tweets[0]"
      ],
      "metadata": {
        "id": "1OJXTF6EQvmA",
        "colab": {
          "base_uri": "https://localhost:8080/",
          "height": 35
        },
        "outputId": "ff64573a-35d2-41d3-a7b6-c4318705978a"
      },
      "execution_count": 23,
      "outputs": [
        {
          "output_type": "execute_result",
          "data": {
            "text/plain": [
              "'i didnt feel humiliated'"
            ],
            "application/vnd.google.colaboratory.intrinsic+json": {
              "type": "string"
            }
          },
          "metadata": {},
          "execution_count": 23
        }
      ]
    },
    {
      "cell_type": "code",
      "source": [
        "# Mapping of numerical indices to corresponding emotion classes\n",
        "index_to_class = {\n",
        "    0: 'Sadness',\n",
        "    1: 'Joy',\n",
        "    2: 'Love',\n",
        "    3: 'Anger',\n",
        "    4: 'Fear',\n",
        "    5: 'Surprise'\n",
        "}"
      ],
      "metadata": {
        "id": "0aYSHhqDYY1H"
      },
      "execution_count": 24,
      "outputs": []
    },
    {
      "cell_type": "markdown",
      "source": [
        "## Tokenization"
      ],
      "metadata": {
        "id": "Lf6ivolwXfQG"
      }
    },
    {
      "cell_type": "code",
      "source": [
        "# Create a Tokenizer with a vocabulary size of 10,000 and an out-of-vocabulary token\n",
        "tokenizer = Tokenizer(num_words=10000, oov_token='<UKN>')\n",
        "\n",
        "# Fit the Tokenizer on the training tweets to build the vocabulary\n",
        "tokenizer.fit_on_texts(train_tweets)"
      ],
      "metadata": {
        "id": "BZkoSiz4xorI"
      },
      "execution_count": 25,
      "outputs": []
    },
    {
      "cell_type": "code",
      "source": [
        "# Function to convert text data into padded sequences using a tokenizer\n",
        "def get_sequences(tokenizer, tweets):\n",
        "    # Convert text to sequences of integers using the tokenizer\n",
        "    sequences = tokenizer.texts_to_sequences(tweets)\n",
        "\n",
        "    # Pad sequences to a maximum length of 50, truncating or padding as needed\n",
        "    padded = pad_sequences(sequences, truncating='post', padding='post', maxlen=50)\n",
        "\n",
        "    # Return the padded sequences\n",
        "    return padded"
      ],
      "metadata": {
        "id": "OElygv0P0yUe"
      },
      "execution_count": 26,
      "outputs": []
    },
    {
      "cell_type": "code",
      "source": [
        "# Obtain padded sequences for the training tweets using the tokenizer\n",
        "padded_train = get_sequences(tokenizer, train_tweets)\n",
        "\n",
        "# Obtain padded sequences for the validation tweets using the tokenizer\n",
        "padded_val = get_sequences(tokenizer, val_tweets)\n",
        "\n",
        "# Obtain padded sequences for the test tweets using the tokenizer\n",
        "padded_test = get_sequences(tokenizer, test_tweets)"
      ],
      "metadata": {
        "id": "th4SRpD915dI"
      },
      "execution_count": 27,
      "outputs": []
    },
    {
      "cell_type": "code",
      "source": [
        "padded_train[0]"
      ],
      "metadata": {
        "id": "cdRHRZWpRHXL",
        "colab": {
          "base_uri": "https://localhost:8080/"
        },
        "outputId": "a03e26fd-1c15-4164-b30a-d2bb5b0facb5"
      },
      "execution_count": 28,
      "outputs": [
        {
          "output_type": "execute_result",
          "data": {
            "text/plain": [
              "array([  2, 139,   3, 679,   0,   0,   0,   0,   0,   0,   0,   0,   0,\n",
              "         0,   0,   0,   0,   0,   0,   0,   0,   0,   0,   0,   0,   0,\n",
              "         0,   0,   0,   0,   0,   0,   0,   0,   0,   0,   0,   0,   0,\n",
              "         0,   0,   0,   0,   0,   0,   0,   0,   0,   0,   0], dtype=int32)"
            ]
          },
          "metadata": {},
          "execution_count": 28
        }
      ]
    },
    {
      "cell_type": "markdown",
      "source": [
        "## Training"
      ],
      "metadata": {
        "id": "cZqxwuCdX5h0"
      }
    },
    {
      "cell_type": "code",
      "source": [
        "# Create a sequential model\n",
        "model = tf.keras.models.Sequential([\n",
        "    # Embedding layer with a vocabulary size of 10,000, embedding dimension of 16, and input length of 50\n",
        "    tf.keras.layers.Embedding(10000, 16, input_length=50),\n",
        "\n",
        "    # Bidirectional LSTM layer with 20 units, returning sequences (for stacking another LSTM layer)\n",
        "    tf.keras.layers.Bidirectional(tf.keras.layers.LSTM(20, return_sequences=True)),\n",
        "\n",
        "    # Bidirectional LSTM layer with 20 units (no return_sequences as it's the last LSTM layer)\n",
        "    tf.keras.layers.Bidirectional(tf.keras.layers.LSTM(20)),\n",
        "\n",
        "    # Dense output layer with 6 units (for 6 emotion classes) and softmax activation\n",
        "    tf.keras.layers.Dense(6, activation='softmax')\n",
        "])"
      ],
      "metadata": {
        "id": "9ZczFQGx5qkl"
      },
      "execution_count": 29,
      "outputs": []
    },
    {
      "cell_type": "code",
      "source": [
        "model.summary()"
      ],
      "metadata": {
        "id": "vq9rgT3KA99v",
        "colab": {
          "base_uri": "https://localhost:8080/"
        },
        "outputId": "1b78b1ad-f346-4948-962d-d6152e3bc69b"
      },
      "execution_count": 30,
      "outputs": [
        {
          "output_type": "stream",
          "name": "stdout",
          "text": [
            "Model: \"sequential\"\n",
            "_________________________________________________________________\n",
            " Layer (type)                Output Shape              Param #   \n",
            "=================================================================\n",
            " embedding (Embedding)       (None, 50, 16)            160000    \n",
            "                                                                 \n",
            " bidirectional (Bidirection  (None, 50, 40)            5920      \n",
            " al)                                                             \n",
            "                                                                 \n",
            " bidirectional_1 (Bidirecti  (None, 40)                9760      \n",
            " onal)                                                           \n",
            "                                                                 \n",
            " dense (Dense)               (None, 6)                 246       \n",
            "                                                                 \n",
            "=================================================================\n",
            "Total params: 175926 (687.21 KB)\n",
            "Trainable params: 175926 (687.21 KB)\n",
            "Non-trainable params: 0 (0.00 Byte)\n",
            "_________________________________________________________________\n"
          ]
        }
      ]
    },
    {
      "cell_type": "code",
      "source": [
        "# Compile the model using sparse categorical crossentropy as the loss function,\n",
        "# Adam optimizer, and accuracy as the metric to monitor during training\n",
        "model.compile(\n",
        "    loss='sparse_categorical_crossentropy',\n",
        "    optimizer='adam',\n",
        "    metrics=['accuracy']\n",
        ")"
      ],
      "metadata": {
        "id": "m1HnqF-y1tFj"
      },
      "execution_count": 31,
      "outputs": []
    },
    {
      "cell_type": "code",
      "source": [
        "# EarlyStopping callback to stop training when the validation accuracy stops improving\n",
        "early_stop = EarlyStopping(\n",
        "    monitor='val_accuracy',  # Monitor validation accuracy for early stopping\n",
        "    mode='min',              # 'min' mode means training will stop when the quantity monitored has stopped decreasing\n",
        "    verbose=1,               # Verbosity level (1: update messages, 0: silent)\n",
        "    patience=10               # Number of epochs with no improvement after which training will be stopped\n",
        ")"
      ],
      "metadata": {
        "id": "CFu479zpDzUq"
      },
      "execution_count": 32,
      "outputs": []
    },
    {
      "cell_type": "code",
      "source": [
        "# Convert padded sequences and labels for training data to NumPy arrays\n",
        "padded_train = np.array(padded_train)\n",
        "train_labels = np.array(train_labels)\n",
        "\n",
        "# Convert padded sequences and labels for validation data to NumPy arrays\n",
        "padded_val = np.array(padded_val)\n",
        "val_labels = np.array(val_labels)"
      ],
      "metadata": {
        "id": "uPAA-7EJEAQF"
      },
      "execution_count": 33,
      "outputs": []
    },
    {
      "cell_type": "code",
      "source": [
        "# Train the model on the padded training data and corresponding labels\n",
        "# Validate on the padded validation data with validation labels\n",
        "# Use the EarlyStopping callback to stop training if validation accuracy doesn't improve for 10 consecutive epochs\n",
        "history = model.fit(\n",
        "    padded_train,             # Padded training sequences\n",
        "    train_labels,             # Training labels\n",
        "    validation_data=(padded_val, val_labels),  # Validation data and labels\n",
        "    epochs=10,                # Number of epochs\n",
        "    callbacks=[early_stop]    # EarlyStopping callback\n",
        ")"
      ],
      "metadata": {
        "id": "oBKY-ofTCEDa",
        "colab": {
          "base_uri": "https://localhost:8080/"
        },
        "outputId": "2c5def8c-2029-40d2-f327-bee589fbd1fe"
      },
      "execution_count": 34,
      "outputs": [
        {
          "output_type": "stream",
          "name": "stdout",
          "text": [
            "Epoch 1/10\n",
            "500/500 [==============================] - 38s 56ms/step - loss: 1.3063 - accuracy: 0.4748 - val_loss: 0.7746 - val_accuracy: 0.7135\n",
            "Epoch 2/10\n",
            "500/500 [==============================] - 10s 21ms/step - loss: 0.5273 - accuracy: 0.8179 - val_loss: 0.5886 - val_accuracy: 0.8020\n",
            "Epoch 3/10\n",
            "500/500 [==============================] - 8s 17ms/step - loss: 0.3201 - accuracy: 0.8899 - val_loss: 0.5197 - val_accuracy: 0.8290\n",
            "Epoch 4/10\n",
            "500/500 [==============================] - 8s 16ms/step - loss: 0.2112 - accuracy: 0.9280 - val_loss: 0.4019 - val_accuracy: 0.8725\n",
            "Epoch 5/10\n",
            "500/500 [==============================] - 7s 14ms/step - loss: 0.1519 - accuracy: 0.9509 - val_loss: 0.4462 - val_accuracy: 0.8700\n",
            "Epoch 6/10\n",
            "500/500 [==============================] - 9s 18ms/step - loss: 0.1270 - accuracy: 0.9593 - val_loss: 0.3732 - val_accuracy: 0.8845\n",
            "Epoch 7/10\n",
            "500/500 [==============================] - 8s 15ms/step - loss: 0.1122 - accuracy: 0.9636 - val_loss: 0.3930 - val_accuracy: 0.8810\n",
            "Epoch 8/10\n",
            "500/500 [==============================] - 8s 16ms/step - loss: 0.0881 - accuracy: 0.9712 - val_loss: 0.4008 - val_accuracy: 0.8870\n",
            "Epoch 9/10\n",
            "500/500 [==============================] - 9s 17ms/step - loss: 0.0709 - accuracy: 0.9783 - val_loss: 0.3938 - val_accuracy: 0.8910\n",
            "Epoch 10/10\n",
            "500/500 [==============================] - 7s 14ms/step - loss: 0.0600 - accuracy: 0.9810 - val_loss: 0.3845 - val_accuracy: 0.8935\n"
          ]
        }
      ]
    },
    {
      "cell_type": "markdown",
      "source": [
        "## Evaluation"
      ],
      "metadata": {
        "id": "FAVRHTWWYIsP"
      }
    },
    {
      "cell_type": "code",
      "source": [
        "# Convert padded sequences and labels for test data to NumPy arrays\n",
        "padded_test = np.array(padded_test)\n",
        "test_labels = np.array(test_labels)"
      ],
      "metadata": {
        "id": "2Z7scdbgcnIt"
      },
      "execution_count": 35,
      "outputs": []
    },
    {
      "cell_type": "code",
      "source": [
        "# Evaluate the trained model on the padded test data and corresponding labels\n",
        "test_loss, test_accuracy = model.evaluate(padded_test, test_labels)\n",
        "\n",
        "# Print the test accuracy\n",
        "print(f'Test Accuracy: {test_accuracy * 100:.2f}%')"
      ],
      "metadata": {
        "id": "G9a_bnabcaW_",
        "colab": {
          "base_uri": "https://localhost:8080/"
        },
        "outputId": "07c8ae76-aed0-4a92-ff23-ec5fd6518794"
      },
      "execution_count": 37,
      "outputs": [
        {
          "output_type": "stream",
          "name": "stdout",
          "text": [
            "63/63 [==============================] - 1s 12ms/step - loss: 0.4271 - accuracy: 0.8845\n",
            "Test Accuracy: 88.45%\n"
          ]
        }
      ]
    },
    {
      "cell_type": "code",
      "source": [
        "# Function to visualize training and validation history\n",
        "def show_history(history):\n",
        "    # Get the number of epochs trained\n",
        "    epochs_trained = len(history.history['loss'])\n",
        "\n",
        "    # Set up the figure with two subplots (Accuracy and Loss)\n",
        "    plt.figure(figsize=(8, 4))\n",
        "\n",
        "    # Plot Training and Validation Accuracy\n",
        "    plt.subplot(1, 2, 1)\n",
        "    plt.plot(range(0, epochs_trained), history.history.get('accuracy'), label='Training')\n",
        "    plt.plot(range(0, epochs_trained), history.history.get('val_accuracy'), label='Validation')\n",
        "    plt.ylim([0., 1.])\n",
        "    plt.xlabel('Epochs')\n",
        "    plt.ylabel('Accuracy')\n",
        "    plt.legend()\n",
        "\n",
        "    # Plot Training and Validation Loss\n",
        "    plt.subplot(1, 2, 2)\n",
        "    plt.plot(range(0, epochs_trained), history.history.get('loss'), label='Training')\n",
        "    plt.plot(range(0, epochs_trained), history.history.get('val_loss'), label='Validation')\n",
        "    plt.xlabel('Epochs')\n",
        "    plt.ylabel('Loss')\n",
        "    plt.legend()\n",
        "\n",
        "    # Show the plot\n",
        "    plt.show()"
      ],
      "metadata": {
        "id": "AG8KAy8qMT_v"
      },
      "execution_count": 41,
      "outputs": []
    },
    {
      "cell_type": "code",
      "source": [
        "show_history(history)"
      ],
      "metadata": {
        "colab": {
          "base_uri": "https://localhost:8080/",
          "height": 393
        },
        "id": "9s4L5-dT3Fm6",
        "outputId": "6aeaa844-4899-448d-ffd1-0a9802c17f68"
      },
      "execution_count": 42,
      "outputs": [
        {
          "output_type": "display_data",
          "data": {
            "text/plain": [
              "<Figure size 800x400 with 2 Axes>"
            ],
            "image/png": "[encoded data removed]"
          },
          "metadata": {}
        }
      ]
    },
    {
      "cell_type": "code",
      "source": [
        "test_tweets[146],index_to_class[test_labels[146]]"
      ],
      "metadata": {
        "id": "ZV35f6XPP2c5",
        "colab": {
          "base_uri": "https://localhost:8080/"
        },
        "outputId": "3a0fa445-ef63-420f-b017-9bc735cb8be9"
      },
      "execution_count": 43,
      "outputs": [
        {
          "output_type": "execute_result",
          "data": {
            "text/plain": [
              "('i am feeling eager to start doing some work the man who works there literally says so uhm you guys want to go in back and see if we can find anything to do',\n",
              " 'Joy')"
            ]
          },
          "metadata": {},
          "execution_count": 43
        }
      ]
    },
    {
      "cell_type": "code",
      "source": [
        "preds = model.predict(np.expand_dims(padded_test[146],axis=0))[0]"
      ],
      "metadata": {
        "id": "zy2k7_HELudl",
        "colab": {
          "base_uri": "https://localhost:8080/"
        },
        "outputId": "efb078f5-0bfb-4bdd-9d0c-2d736194f582"
      },
      "execution_count": 44,
      "outputs": [
        {
          "output_type": "stream",
          "name": "stdout",
          "text": [
            "1/1 [==============================] - 2s 2s/step\n"
          ]
        }
      ]
    },
    {
      "cell_type": "code",
      "source": [
        "preds"
      ],
      "metadata": {
        "colab": {
          "base_uri": "https://localhost:8080/"
        },
        "id": "YGlqOpNX3VA0",
        "outputId": "24f21bee-5731-4a11-8a88-ec79f35daf04"
      },
      "execution_count": 46,
      "outputs": [
        {
          "output_type": "execute_result",
          "data": {
            "text/plain": [
              "array([3.9711016e-05, 9.9969459e-01, 2.3057760e-04, 2.6679389e-05,\n",
              "       3.1506604e-06, 5.3548711e-06], dtype=float32)"
            ]
          },
          "metadata": {},
          "execution_count": 46
        }
      ]
    },
    {
      "cell_type": "code",
      "source": [
        "index = np.argmax(preds)\n",
        "print(index_to_class[index])"
      ],
      "metadata": {
        "id": "mpL9CdkzYQni",
        "colab": {
          "base_uri": "https://localhost:8080/"
        },
        "outputId": "8cbc8d0f-22d4-44f0-a2ad-cedcfea1a7dc"
      },
      "execution_count": 45,
      "outputs": [
        {
          "output_type": "stream",
          "name": "stdout",
          "text": [
            "Joy\n"
          ]
        }
      ]
    }
  ]
}